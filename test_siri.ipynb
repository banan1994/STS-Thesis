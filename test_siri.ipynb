{
 "nbformat": 4,
 "nbformat_minor": 2,
 "metadata": {
  "language_info": {
   "name": "python",
   "codemirror_mode": {
    "name": "ipython",
    "version": 3
   },
   "version": "3.6.4-final"
  },
  "orig_nbformat": 2,
  "file_extension": ".py",
  "mimetype": "text/x-python",
  "name": "python",
  "npconvert_exporter": "python",
  "pygments_lexer": "ipython3",
  "version": 3,
  "kernelspec": {
   "name": "python3",
   "display_name": "Python 3"
  }
 },
 "cells": [
  {
   "cell_type": "code",
   "execution_count": 3,
   "metadata": {},
   "outputs": [],
   "source": [
    "#installera pandas och matplotlib, \n",
    "# och numpy om den inte kommer automatiskt med pandas\n",
    "import json\n",
    "import glob\n",
    "import os\n",
    "import re\n",
    "import pandas as pd\n",
    "import numpy as np\n",
    "import time\n",
    "import pprint\n",
    "import matplotlib as plt\n",
    "from nltk.sentiment.vader import SentimentIntensityAnalyzer"
   ]
  },
  {
   "cell_type": "code",
   "execution_count": null,
   "metadata": {},
   "outputs": [],
   "source": [
    "#Printar lite extra grejs som kan vara intressant om saker går fel\n",
    "DEBUG = False"
   ]
  },
  {
   "cell_type": "code",
   "execution_count": null,
   "metadata": {},
   "outputs": [],
   "source": [
    "#Genererar ett filträd. Måste ligga i samma mapp som datamapparna\n",
    "# tree[date][industry][company][handle] är en lista med alla filer för den användaren (alltså: mentions, till, från).  \n",
    "\n",
    "#TESTAD 19/3, Patrik har kontrollerat att längden på fillistan stämmer överrens med antal jsonfiler och att filnamn\n",
    "# inte förekommer dubbelt. Koden är testad när notebooken ligger i samma mapp som två datamappar (2020-03-18, 2020-03-19).\n",
    "\n",
    "\n",
    "tree = {}\n",
    "INDUSTRIES = [\"Airlines\"]\n",
    "\n",
    "#Lista med alla mappar i working directory som heter något i stil med 1111-11-11\n",
    "collections = [d for d in glob.glob(\"*\") if re.fullmatch(r'[0-9]{4}-[0-9]{2}-[0-9]{2}', d)]\n",
    "\n",
    "for col in collections:\n",
    "    tree[col] = {}\n",
    "    for ind in INDUSTRIES:\n",
    "        tree[col][ind] = {}\n",
    "        \n",
    "        #Den här fångar alla undermappar i /2020-xx-xx/<industry>/\n",
    "        companies = [os.path.basename(x) for x in glob.glob(os.path.join(col, ind, \"*\"))]\n",
    "        \n",
    "        for comp in companies:\n",
    "            tree[col][ind][comp] = {}\n",
    "            \n",
    "            #Traskar igenom \"underfilträdet\" för varje företag, alltså med /2020-xx-xx/industry/company/ som root. \n",
    "            #Lite snårig men finns bra dokumentation online.\n",
    "            for root, dirs, files in os.walk(os.path.join(col, ind, comp), topdown=True):\n",
    "                if dirs:\n",
    "                    for handle in dirs:\n",
    "                        tree[col][ind][comp][handle] = []\n",
    "                else:\n",
    "                    for f in files:\n",
    "                        if f.find(\"tweet\") == 0:\n",
    "                            tree[col][ind][comp][os.path.basename(root)].append(os.path.join(root, f))\n",
    "                            \n",
    "#Printar en översikt av hela filträdet\n",
    "if DEBUG:\n",
    "    for c in tree.keys():\n",
    "        print(c)\n",
    "        for ind in tree[c].keys():\n",
    "            print('\\t', ind)\n",
    "            for comp in tree[c][ind].keys():\n",
    "                print('\\t\\t', comp)\n",
    "                for handle in tree[c][ind][comp].keys():\n",
    "                    print('\\t\\t\\t', handle)\n",
    "                    print('\\t\\t\\t', \"antal json:\", str(len(tree[c][ind][comp][handle])))\n",
    "                    for f in tree[c][ind][comp][handle]:\n",
    "                        print('\\t\\t\\t\\t', f)"
   ]
  },
  {
   "cell_type": "code",
   "execution_count": null,
   "metadata": {},
   "outputs": [],
   "source": [
    "#Läser in allt i flera DataFrames.\n",
    "#ITEMS är de fält som tas med. Filtrerar direkt för att spara minne.\n",
    "#Lite enkla utskrifter för att testa vad som tar tid.\n",
    "ITEMS = [\"created_at\", \"full_text\", \"id\", \"id_str\", \"metadata\", \"in_reply_to_status_id\", \"user\"]\n",
    "\n",
    "li = []\n",
    "t_start = time.time()\n",
    "for day in tree.keys():\n",
    "    for company in tree[day][\"Airlines\"].keys():\n",
    "        for path in list(tree[day][\"Airlines\"][company].values())[0]:\n",
    "            df = pd.read_json(path)\n",
    "            #Ta bort alla fält som inte finns i items\n",
    "            df = df.filter(items=ITEMS)\n",
    "            #Skapa en bool-series baserat på språket och behåll endast kolumner där språket känns igen som engelska.\n",
    "            en = df.metadata.apply(lambda x: x[\"iso_language_code\"] == \"en\")\n",
    "            df = df[en]\n",
    "            #Lägg till en kolumn som anger vilket företag tweeten insamlats från (alltså EJ avsändaren)\n",
    "            df[\"associated_company\"]=company\n",
    "            li.append(df)\n",
    "            \n",
    "        \n",
    "    \n",
    "print(\"Time - read files:\", time.time()-t_start, \"seconds\")\n",
    "data = pd.concat(li)\n",
    "print(\"Time - concat:\", time.time()-t_start, \"seconds\")\n",
    "print(\"Tweets:\", data.shape[0])\n",
    "print(\"Memory MB (with duplicates):\", data.memory_usage(index=True, deep=True).sum() / 1000000)\n",
    "data = data.drop_duplicates(subset=\"id\")\n",
    "print(\"Tweets (no duplicates):\", data.shape[0])\n",
    "print(\"Time - drop duplicates:\", time.time()-t_start, \"seconds\")\n",
    "print(\"Memory MB (no duplicates):\", data.memory_usage(index=True, deep=True).sum() / 1000000)\n",
    "\n",
    "data = data.set_index(\"id\")\n",
    "data['created_at'] = pd.to_datetime(data['created_at'])"
   ]
  },
  {
   "cell_type": "code",
   "execution_count": null,
   "metadata": {},
   "outputs": [],
   "source": [
    "# Save to csv file\n",
    "data.to_csv('data.csv')"
   ]
  },
  {
   "cell_type": "code",
   "execution_count": 6,
   "metadata": {},
   "outputs": [
    {
     "output_type": "execute_result",
     "data": {
      "text/plain": "                    created_at  \\\nid                               \n1240387060902526976 2020-03-18   \n1240355853531779072 2020-03-18   \n1240351351479115777 2020-03-18   \n1240311020028973056 2020-03-18   \n1240307787080450048 2020-03-18   \n\n                                                             full_text  \\\nid                                                                       \n1240387060902526976  I agree with what you say Gaz, just like they ...   \n1240355853531779072  RT @ChaplainWEdin: Sad to hear of the situatio...   \n1240351351479115777  Has anyone had a refund back yet from @flybe ?...   \n1240311020028973056  https://t.co/WWfcHihpSc\\n\\nLets not forget our...   \n1240307787080450048  RT @JasonUnsworthAA: While airlines are at ris...   \n\n                                  id_str  \\\nid                                         \n1240387060902526976  1240387060902526976   \n1240355853531779072  1240355853531779072   \n1240351351479115777  1240351351479115776   \n1240311020028973056  1240311020028973056   \n1240307787080450048  1240307787080450048   \n\n                                                              metadata  \\\nid                                                                       \n1240387060902526976  {'iso_language_code': 'en', 'result_type': 're...   \n1240355853531779072  {'iso_language_code': 'en', 'result_type': 're...   \n1240351351479115777  {'iso_language_code': 'en', 'result_type': 're...   \n1240311020028973056  {'iso_language_code': 'en', 'result_type': 're...   \n1240307787080450048  {'iso_language_code': 'en', 'result_type': 're...   \n\n                     in_reply_to_status_id  \\\nid                                           \n1240387060902526976                    NaN   \n1240355853531779072                    NaN   \n1240351351479115777                    NaN   \n1240311020028973056                    NaN   \n1240307787080450048                    NaN   \n\n                                                                  user  \\\nid                                                                       \n1240387060902526976  {'id': 761670584350769153, 'id_str': '76167058...   \n1240355853531779072  {'id': 1009255824, 'id_str': '1009255824', 'na...   \n1240351351479115777  {'id': 861615007, 'id_str': '861615007', 'name...   \n1240311020028973056  {'id': 2330120119, 'id_str': '2330120119', 'na...   \n1240307787080450048  {'id': 1200660601057562624, 'id_str': '1200660...   \n\n                    associated_company  sentiment  \nid                                                 \n1240387060902526976              Flybe     0.6239  \n1240355853531779072              Flybe    -0.4767  \n1240351351479115777              Flybe     0.4122  \n1240311020028973056              Flybe    -0.1615  \n1240307787080450048              Flybe    -0.5562  ",
      "text/html": "<div>\n<style scoped>\n    .dataframe tbody tr th:only-of-type {\n        vertical-align: middle;\n    }\n\n    .dataframe tbody tr th {\n        vertical-align: top;\n    }\n\n    .dataframe thead th {\n        text-align: right;\n    }\n</style>\n<table border=\"1\" class=\"dataframe\">\n  <thead>\n    <tr style=\"text-align: right;\">\n      <th></th>\n      <th>created_at</th>\n      <th>full_text</th>\n      <th>id_str</th>\n      <th>metadata</th>\n      <th>in_reply_to_status_id</th>\n      <th>user</th>\n      <th>associated_company</th>\n      <th>sentiment</th>\n    </tr>\n    <tr>\n      <th>id</th>\n      <th></th>\n      <th></th>\n      <th></th>\n      <th></th>\n      <th></th>\n      <th></th>\n      <th></th>\n      <th></th>\n    </tr>\n  </thead>\n  <tbody>\n    <tr>\n      <th>1240387060902526976</th>\n      <td>2020-03-18</td>\n      <td>I agree with what you say Gaz, just like they ...</td>\n      <td>1240387060902526976</td>\n      <td>{'iso_language_code': 'en', 'result_type': 're...</td>\n      <td>NaN</td>\n      <td>{'id': 761670584350769153, 'id_str': '76167058...</td>\n      <td>Flybe</td>\n      <td>0.6239</td>\n    </tr>\n    <tr>\n      <th>1240355853531779072</th>\n      <td>2020-03-18</td>\n      <td>RT @ChaplainWEdin: Sad to hear of the situatio...</td>\n      <td>1240355853531779072</td>\n      <td>{'iso_language_code': 'en', 'result_type': 're...</td>\n      <td>NaN</td>\n      <td>{'id': 1009255824, 'id_str': '1009255824', 'na...</td>\n      <td>Flybe</td>\n      <td>-0.4767</td>\n    </tr>\n    <tr>\n      <th>1240351351479115777</th>\n      <td>2020-03-18</td>\n      <td>Has anyone had a refund back yet from @flybe ?...</td>\n      <td>1240351351479115776</td>\n      <td>{'iso_language_code': 'en', 'result_type': 're...</td>\n      <td>NaN</td>\n      <td>{'id': 861615007, 'id_str': '861615007', 'name...</td>\n      <td>Flybe</td>\n      <td>0.4122</td>\n    </tr>\n    <tr>\n      <th>1240311020028973056</th>\n      <td>2020-03-18</td>\n      <td>https://t.co/WWfcHihpSc\\n\\nLets not forget our...</td>\n      <td>1240311020028973056</td>\n      <td>{'iso_language_code': 'en', 'result_type': 're...</td>\n      <td>NaN</td>\n      <td>{'id': 2330120119, 'id_str': '2330120119', 'na...</td>\n      <td>Flybe</td>\n      <td>-0.1615</td>\n    </tr>\n    <tr>\n      <th>1240307787080450048</th>\n      <td>2020-03-18</td>\n      <td>RT @JasonUnsworthAA: While airlines are at ris...</td>\n      <td>1240307787080450048</td>\n      <td>{'iso_language_code': 'en', 'result_type': 're...</td>\n      <td>NaN</td>\n      <td>{'id': 1200660601057562624, 'id_str': '1200660...</td>\n      <td>Flybe</td>\n      <td>-0.5562</td>\n    </tr>\n  </tbody>\n</table>\n</div>"
     },
     "metadata": {},
     "execution_count": 6
    }
   ],
   "source": [
    "# Read csv file\n",
    "data = pd.read_csv(\"data.csv\", index_col=\"id\")\n",
    "data['created_at'] = pd.to_datetime(data['created_at'])\n",
    "data.head()"
   ]
  },
  {
   "cell_type": "code",
   "execution_count": 7,
   "metadata": {},
   "outputs": [],
   "source": []
  },
  {
   "cell_type": "code",
   "execution_count": 8,
   "metadata": {},
   "outputs": [],
   "source": [
    "#Rekursiv funktion som bygger upp ett träd med tweet-id:s baserat på tweet-trådar, konversationer, där föräldrarna är initial-tweetsens id, och barnen är svarens id:s.  \n",
    "def build_threads(all_tweets, initial_tweets):\n",
    "    subthreads = dict.fromkeys(initial_tweets.index, None) #Skapar ny dictionary med key: id och value: None\n",
    "    for index in initial_tweets.index:\n",
    "        if index in subthreads.keys():\n",
    "            responses = all_tweets[all_tweets.in_reply_to_status_id == index]\n",
    "            if not responses.empty:\n",
    "                subthreads[index] = build_thread(tweets, responses)\n",
    "    return subthreads"
   ]
  },
  {
   "cell_type": "code",
   "execution_count": 9,
   "metadata": {},
   "outputs": [
    {
     "output_type": "stream",
     "name": "stdout",
     "text": "149.90031623840332\n"
    }
   ],
   "source": [
    "#Anropar rekursiva funktionen ovan\n",
    "t_start = time.time()\n",
    "\n",
    "tweets = data.filter(items=[\"in_reply_to_status_id\"])\n",
    "initial_tweets = tweets[tweets.in_reply_to_status_id.isnull()]\n",
    "threads = build_threads(tweets, initial_tweets)\n",
    "\n",
    "print(\"Time - build conversation threads:\", time.time()-t_start)"
   ]
  },
  {
   "cell_type": "code",
   "execution_count": 16,
   "metadata": {},
   "outputs": [
    {
     "output_type": "stream",
     "name": "stdout",
     "text": "{   1238824448544948226: None,\n    1238863434533527552: None,\n    1238879275631226884: {   1238884226914754561: {1238885614998761505: None},\n                             1238884746329030657: None,\n                             1238884932216389640: {   1238886079140429825: {   1238886373660164098: {   1238891392635731968: {   1238893271197286409: None}}}}},\n    1238879476857155584: None,\n    1238899135409016833: {1239599823873081345: None},\n    1238906624695205888: None,\n    1238907070881107969: None,\n    1238926947608080386: None,\n    1238934990601302017: None,\n    1238944454804996096: None,\n    1238961950161240066: None,\n    1238963632710582275: {   1238963870678552576: None,\n                             1239575150141546496: None,\n                             1239648808310648832: None},\n    1238967065383444480: None,\n    1238969081006563328: None,\n    1238999014277775366: None,\n    1239009249663090688: None,\n    1239040290947809280: None,\n    1239105083071254529: None,\n    1239107491390205952: None,\n    1239108950760587269: None,\n    1239113342389714944: None,\n    1239137636993896448: None,\n    1239154955241639936: None,\n    1239159456967073800: None,\n    1239163693549699074: None,\n    1239167060409647104: None,\n    1239170955219537922: None,\n    1239178505251958785: None,\n    1239180566009982976: None,\n    1239185084764348424: None,\n    1239188676875292672: None,\n    1239189058347307010: {1239189392025141248: None},\n    1239189841369333760: None,\n    1239189867084615681: None,\n    1239189965029990400: None,\n    1239190251681300486: None,\n    1239190266189398016: None,\n    1239190570041585664: None,\n    1239190606070636551: None,\n    1239190897545416704: None,\n    1239191390489280513: None,\n    1239191397833506818: None,\n    1239191412647899136: None,\n    1239191470546071553: None,\n    1239191787371204612: None,\n    1239191825258250240: None,\n    1239218174354219009: None,\n    1239222059164741633: None,\n    1239224976894500864: None,\n    1239239190447042560: None,\n    1239240045283991556: None,\n    1239255498525941761: None,\n    1239316125210628101: None,\n    1239326963921272832: None,\n    1239369821571203072: None,\n    1239411276075413504: None,\n    1239423667857002496: None,\n    1239436261368238080: None,\n    1239496493255593989: {1239515789008478208: None},\n    1239503266511233025: None,\n    1239506116394070016: None,\n    1239507948017246212: None,\n    1239560523903049728: None,\n    1239577320870084608: None,\n    1239587224758312960: None,\n    1239613803278589953: None,\n    1239623228143869954: None,\n    1239626355261820930: None,\n    1239636328754696193: None,\n    1239649819616043015: None,\n    1239658101390925825: {   1239661635729526787: {   1239662318352506880: {   1239828638834601984: None}},\n                             1239671894087000064: None},\n    1239659576842244096: None,\n    1239659780932763657: None,\n    1239663852712755200: None,\n    1239664720363347969: None,\n    1239679684146802688: None,\n    1239689797477765124: None,\n    1239815554912878592: None,\n    1239859726759997442: {1239875675089231873: None},\n    1239864061413724162: None,\n    1239877175899082759: None,\n    1239936116658180097: None,\n    1239951678633390080: None,\n    1239957194294071296: None,\n    1239980915008450565: None,\n    1239988440747380742: None,\n    1240026911809638402: None,\n    1240085287029571585: None,\n    1240173911087644672: None,\n    1240239777951121408: None,\n    1240270940065447937: None,\n    1240273245040934913: None,\n    1240276989799522304: None,\n    1240287530962038787: None,\n    1240287538947989504: None,\n    1240307787080450048: None,\n    1240311020028973056: None,\n    1240351351479115777: None,\n    1240355853531779072: None,\n    1240387060902526976: None}\n"
    }
   ],
   "source": [
    "#Skapar en pretty printer för att kunna printa dictionaries, och printar de 100 första twittertrådarna \n",
    "pp = pprint.PrettyPrinter(indent=4)\n",
    "pp.pprint(dict(list(threads.items())[0:100])) "
   ]
  },
  {
   "cell_type": "code",
   "execution_count": null,
   "metadata": {},
   "outputs": [],
   "source": [
    "#Funktion för att rensa tweetsen på onödiga symboler\n",
    "def clean(tweet_str):\n",
    "    tweet_str = re.sub(r'RT[\\s]+', '', tweet_str)\n",
    "    tweet_str = re.sub(r'https?:\\/\\/.*[\\r\\n]*','',tweet_str)\n",
    "    tweet_str = re.sub(r'#', '', tweet_str)\n",
    "    return tweet_str"
   ]
  },
  {
   "cell_type": "code",
   "execution_count": null,
   "metadata": {},
   "outputs": [],
   "source": [
    "#Funktion som analyserar och returnerar sentimentet för en tweet\n",
    "def analyse_sentiment(tweet_str):\n",
    "    clean_tweet = clean(tweet_str)\n",
    "    analyzer = SentimentIntensityAnalyzer()\n",
    "    sentiment = analyzer.polarity_scores(clean_tweet)\n",
    "    return sentiment[\"compound\"]"
   ]
  },
  {
   "cell_type": "code",
   "execution_count": null,
   "metadata": {},
   "outputs": [],
   "source": [
    "#Går igenom alla tweets och anropar funktion för att anlysera dess sentiment, vilket läggs till som en ny kolumn i dataframen data. OBS: Tar LÅNG tid, 35-45 min för ~180000 tweets. \n",
    "t_start = time.time()\n",
    "data[\"sentiment\"] = data.full_text.apply(lambda x: analyse_sentiment(x))\n",
    "print(\"Time - analysera sentiment:\", time.time()-t_start)"
   ]
  },
  {
   "cell_type": "code",
   "execution_count": null,
   "metadata": {},
   "outputs": [],
   "source": [
    "#Uppdatera csv filen\n",
    "data.to_csv('data.csv')"
   ]
  }
 ]
}