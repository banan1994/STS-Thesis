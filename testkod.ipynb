{
 "cells": [
  {
   "cell_type": "code",
   "execution_count": null,
   "metadata": {},
   "outputs": [],
   "source": [
    "'''\n",
    "-Lite work in progress kring att öppna och analysera tweets.\n",
    "-Notebooken måste ligga i samma mapp som all data. \n",
    "-Rekommenderar att inte köra alla celler, kan nog ta ett tag\n",
    " när vi börjar få ihop mer data.\n",
    "'''"
   ]
  },
  {
   "cell_type": "code",
   "execution_count": 13,
   "metadata": {},
   "outputs": [],
   "source": [
    "import json\n",
    "import glob\n",
    "import os\n",
    "import re"
   ]
  },
  {
   "cell_type": "code",
   "execution_count": 30,
   "metadata": {},
   "outputs": [],
   "source": [
    "#Printar lite extra grejs som kan vara intressant om saker går fel\n",
    "DEBUG = False"
   ]
  },
  {
   "cell_type": "code",
   "execution_count": 37,
   "metadata": {},
   "outputs": [],
   "source": [
    "#Genererar ett filträd \n",
    "# tree[date][industry][company][handle] är en lista med alla filer för den användaren (alltså: mentions, till, från).  \n",
    "tree = {}\n",
    "\n",
    "INDUSTRIES = [\"Airlines\", \"Online Travel Agency\"]\n",
    "collections = [d for d in glob.glob(\"*\") if re.fullmatch(r'[0-9]{4}-[0-9]{2}-[0-9]{2}', d)]\n",
    "for col in collections:\n",
    "    tree[col] = {}\n",
    "    for ind in INDUSTRIES:\n",
    "        tree[col][ind] = {}\n",
    "        companies = [os.path.basename(x) for x in glob.glob(os.path.join(col, ind, \"*\"))]\n",
    "        for comp in companies:\n",
    "            tree[col][ind][comp] = {}\n",
    "            for root, dirs, files in os.walk(os.path.join(col, ind, comp), topdown=True):\n",
    "                if dirs:\n",
    "                    for handle in dirs:\n",
    "                        tree[col][ind][comp][handle] = []\n",
    "                else:\n",
    "                    for f in files:\n",
    "                        if f.find(\"tweet\") == 0:\n",
    "                            tree[col][ind][comp][handle].append(os.path.join(root, f))\n",
    "if DEBUG:\n",
    "    for c in tree.keys():\n",
    "        print(c)\n",
    "        for ind in tree[c].keys():\n",
    "            print('\\t', ind)\n",
    "            for comp in tree[c][ind].keys():\n",
    "                print('\\t\\t', comp)\n",
    "                for handle in tree[c][ind][comp].keys():\n",
    "                    print('\\t\\t\\t', handle)\n",
    "                    for f in tree[c][ind][comp][handle]:\n",
    "                        print('\\t\\t\\t\\t', f)"
   ]
  },
  {
   "cell_type": "code",
   "execution_count": 40,
   "metadata": {},
   "outputs": [
    {
     "name": "stdout",
     "output_type": "stream",
     "text": [
      "Counts: \n",
      "@AerLingus 19998\n",
      "@aeroflot 4015\n",
      "@airfrance 6623\n",
      "@Alitalia 7368\n",
      "@British_Airways 29000\n",
      "@Finnair 2593\n",
      "@flybe 851\n",
      "@iberia_en 2541\n",
      "@jet2tweets 19019\n",
      "@lufthansa 10307\n",
      "@Fly_Norwegian 7369\n",
      "@flymepegasus 1139\n",
      "@Ryanair 43496\n",
      "@SAS 4551\n",
      "@tapairportugal 8472\n",
      "@TurkishAirlines 7904\n",
      "@vueling 11809\n",
      "@easyJet 39455\n",
      "@agoda 1658\n",
      "@bookingcom 8508\n",
      "@Cheapflights 5\n",
      "@Expedia 0\n",
      "@ExpediaUK 23967\n",
      "@HomeAwayUK 0\n",
      "@homeaway 1592\n",
      "@HotelTonight 0\n",
      "@HotelTonightCX 0\n",
      "@HotelTonightEU 476\n",
      "@hotelsdotcom 0\n",
      "@Hotwire 1617\n",
      "@KAYAK 220\n",
      "@lastminute_com 5555\n",
      "@OntheBeachUK 2016\n",
      "@Orbitz 1830\n",
      "@priceline 4207\n",
      "@TUIGroup 0\n",
      "@TUIUK 15507\n",
      "@travelocity 2880\n",
      "@trivago 1041\n",
      "@Vrbo 10885\n",
      "total: 308474\n"
     ]
    }
   ],
   "source": [
    "#Enkel tweeträknare, läser all data så kan ju ta ett tag. \n",
    "#Testad för en samling (ett datum)\n",
    "counts = {}\n",
    "for date in tree.keys():\n",
    "    for industry in tree[date].keys():\n",
    "        for company in tree[date][industry].keys():\n",
    "            for handle in tree[date][industry][company].keys():\n",
    "                counts[handle] = 0\n",
    "                for path in tree[date][industry][company][handle]:\n",
    "                    if DEBUG:\n",
    "                        print(path)\n",
    "                    with open(path, 'r') as f:\n",
    "                        tweet_list = json.loads(f.read())\n",
    "                    counts[handle] += len(tweet_list)\n",
    "                    \n",
    "print(\"Counts: \")\n",
    "total = 0\n",
    "for handle in counts.keys():\n",
    "    print(handle, counts[handle])\n",
    "    total += counts[handle]\n",
    "print(\"total:\", total)"
   ]
  },
  {
   "cell_type": "code",
   "execution_count": 101,
   "metadata": {},
   "outputs": [],
   "source": []
  },
  {
   "cell_type": "code",
   "execution_count": null,
   "metadata": {},
   "outputs": [],
   "source": [
    "\n",
    "    "
   ]
  },
  {
   "cell_type": "code",
   "execution_count": null,
   "metadata": {},
   "outputs": [],
   "source": []
  }
 ],
 "metadata": {
  "kernelspec": {
   "display_name": "Python 3",
   "language": "python",
   "name": "python3"
  },
  "language_info": {
   "codemirror_mode": {
    "name": "ipython",
    "version": 3
   },
   "file_extension": ".py",
   "mimetype": "text/x-python",
   "name": "python",
   "nbconvert_exporter": "python",
   "pygments_lexer": "ipython3",
   "version": "3.6.9"
  }
 },
 "nbformat": 4,
 "nbformat_minor": 4
}
