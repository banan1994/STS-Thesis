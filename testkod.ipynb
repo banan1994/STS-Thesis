{
 "cells": [
  {
   "cell_type": "code",
   "execution_count": 95,
   "metadata": {},
   "outputs": [
    {
     "data": {
      "text/plain": [
       "'\\nLite work in progress kring att öppna och analysera tweets.\\nNotebooken måste ligga i samma mapp som all data. \\n'"
      ]
     },
     "execution_count": 95,
     "metadata": {},
     "output_type": "execute_result"
    }
   ],
   "source": [
    "'''\n",
    "-Lite work in progress kring att öppna och analysera tweets.\n",
    "-Notebooken måste ligga i samma mapp som all data. \n",
    "-Rekommenderar att inte köra alla celler, kan nog ta ett tag\n",
    " när vi börjar få ihop mer data.\n",
    "'''"
   ]
  },
  {
   "cell_type": "code",
   "execution_count": 96,
   "metadata": {},
   "outputs": [],
   "source": [
    "import json\n",
    "import glob\n",
    "import os\n",
    "import re"
   ]
  },
  {
   "cell_type": "code",
   "execution_count": 97,
   "metadata": {},
   "outputs": [],
   "source": [
    "DEBUG = False"
   ]
  },
  {
   "cell_type": "code",
   "execution_count": 98,
   "metadata": {},
   "outputs": [],
   "source": [
    "#Genererar ett filträd \n",
    "# tree[datum][@företag] är en lista med alla filer för den handeln och det datumet. \n",
    "tree = {}\n",
    "collections = [d for d in glob.glob(\"*\") if re.fullmatch(r'([0-9]{2}-){2}[0-9]{2}', d)]\n",
    "for c in collections:\n",
    "    tree[c] = {}\n",
    "    for root, dirs, files in os.walk(c, topdown=True):\n",
    "        if dirs:\n",
    "            for d in dirs:\n",
    "                tree[c][d] = []\n",
    "        else:\n",
    "            handle = root[root.find('@'):]\n",
    "            for f in files:\n",
    "                if not 'INFO' in f:\n",
    "                    tree[c][handle].append(root+'/'+f)\n",
    "if DEBUG:\n",
    "    for c in tree.keys():\n",
    "        print(c)\n",
    "        for d in tree[c].keys():\n",
    "            print('\\t', d)\n",
    "            for f in tree[c][d]:\n",
    "                print('\\t\\t', f)\n",
    "        "
   ]
  },
  {
   "cell_type": "code",
   "execution_count": 100,
   "metadata": {},
   "outputs": [
    {
     "name": "stdout",
     "output_type": "stream",
     "text": [
      "@AlaskaAir 21832\n",
      "@AmericanAir 28169\n",
      "@Delta 28900\n",
      "@HawaiianAir 0\n",
      "@JetBlue 8733\n",
      "@JetBlueCheeps 8\n",
      "@SouthwestAir 17853\n",
      "@SpiritAirlines 3573\n",
      "@United 22271\n"
     ]
    }
   ],
   "source": [
    "#Enkel tweeträknare, läser all data så kan ju ta ett tag. \n",
    "#Testad för en samling (ett datum)\n",
    "counts = {}\n",
    "for datum in tree.keys():\n",
    "    for handle in tree[datum].keys():\n",
    "        counts[handle] = 0\n",
    "        for path in tree[datum][handle]:\n",
    "            with open(path, 'r') as f:\n",
    "                tweet_list = json.loads(f.read())\n",
    "            counts[handle] += len(tweet_list)\n",
    "for handle in counts.keys():\n",
    "    print(handle, counts[handle])"
   ]
  },
  {
   "cell_type": "code",
   "execution_count": null,
   "metadata": {},
   "outputs": [],
   "source": []
  }
 ],
 "metadata": {
  "kernelspec": {
   "display_name": "Python 3",
   "language": "python",
   "name": "python3"
  },
  "language_info": {
   "codemirror_mode": {
    "name": "ipython",
    "version": 3
   },
   "file_extension": ".py",
   "mimetype": "text/x-python",
   "name": "python",
   "nbconvert_exporter": "python",
   "pygments_lexer": "ipython3",
   "version": "3.6.9"
  }
 },
 "nbformat": 4,
 "nbformat_minor": 4
}
