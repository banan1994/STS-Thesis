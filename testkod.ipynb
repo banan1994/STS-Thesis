{
 "cells": [
  {
   "cell_type": "code",
   "execution_count": null,
   "metadata": {},
   "outputs": [],
   "source": [
    "'''\n",
    "-Lite work in progress kring att öppna och analysera tweets.\n",
    "-Notebooken måste ligga i samma mapp som all data. \n",
    "-Rekommenderar att inte köra alla celler, kan nog ta ett tag\n",
    " när vi börjar få ihop mer data.\n",
    "'''"
   ]
  },
  {
   "cell_type": "code",
   "execution_count": 24,
   "metadata": {},
   "outputs": [],
   "source": [
    "#installera pandas och matplotlib, \n",
    "# och numpy om den inte kommer automatiskt med pandas\n",
    "import json\n",
    "import glob\n",
    "import os\n",
    "import re\n",
    "import pandas as pd\n",
    "import numpy as np\n",
    "import time"
   ]
  },
  {
   "cell_type": "code",
   "execution_count": 2,
   "metadata": {},
   "outputs": [],
   "source": [
    "#Printar lite extra grejs som kan vara intressant om saker går fel\n",
    "DEBUG = False"
   ]
  },
  {
   "cell_type": "code",
   "execution_count": 3,
   "metadata": {},
   "outputs": [],
   "source": [
    "#Genererar ett filträd. Måste ligga i samma mapp som datamapparna\n",
    "# tree[date][industry][company][handle] är en lista med alla filer för den användaren (alltså: mentions, till, från).  \n",
    "\n",
    "#TESTAD 19/3, Patrik har kontrollerat att längden på fillistan stämmer överrens med antal jsonfiler och att filnamn\n",
    "# inte förekommer dubbelt. Koden är testad när notebooken ligger i samma mapp som två datamappar (2020-03-18, 2020-03-19).\n",
    "\n",
    "\n",
    "tree = {}\n",
    "INDUSTRIES = [\"Airlines\"]\n",
    "\n",
    "#Lista med alla mappar i working directory som heter något i stil med 1111-11-11\n",
    "collections = [d for d in glob.glob(\"*\") if re.fullmatch(r'[0-9]{4}-[0-9]{2}-[0-9]{2}', d)]\n",
    "\n",
    "for col in collections:\n",
    "    tree[col] = {}\n",
    "    for ind in INDUSTRIES:\n",
    "        tree[col][ind] = {}\n",
    "        \n",
    "        #Den här fångar alla undermappar i /2020-xx-xx/<industry>/\n",
    "        companies = [os.path.basename(x) for x in glob.glob(os.path.join(col, ind, \"*\"))]\n",
    "        \n",
    "        for comp in companies:\n",
    "            tree[col][ind][comp] = {}\n",
    "            \n",
    "            #Traskar igenom \"underfilträdet\" för varje företag, alltså med /2020-xx-xx/industry/company/ som root. \n",
    "            #Lite snårig men finns bra dokumentation online.\n",
    "            for root, dirs, files in os.walk(os.path.join(col, ind, comp), topdown=True):\n",
    "                if dirs:\n",
    "                    for handle in dirs:\n",
    "                        tree[col][ind][comp][handle] = []\n",
    "                else:\n",
    "                    for f in files:\n",
    "                        if f.find(\"tweet\") == 0:\n",
    "                            tree[col][ind][comp][os.path.basename(root)].append(os.path.join(root, f))\n",
    "                            \n",
    "#Printar en översikt av hela filträdet\n",
    "if DEBUG:\n",
    "    for c in tree.keys():\n",
    "        print(c)\n",
    "        for ind in tree[c].keys():\n",
    "            print('\\t', ind)\n",
    "            for comp in tree[c][ind].keys():\n",
    "                print('\\t\\t', comp)\n",
    "                for handle in tree[c][ind][comp].keys():\n",
    "                    print('\\t\\t\\t', handle)\n",
    "                    print('\\t\\t\\t', \"antal json:\", str(len(tree[c][ind][comp][handle])))\n",
    "                    for f in tree[c][ind][comp][handle]:\n",
    "                        print('\\t\\t\\t\\t', f)"
   ]
  },
  {
   "cell_type": "code",
   "execution_count": 26,
   "metadata": {},
   "outputs": [
    {
     "name": "stdout",
     "output_type": "stream",
     "text": [
      "Counts: \n",
      "2020-03-18\n",
      "\t @AerLingus 19998\n",
      "\t @aeroflot 4015\n",
      "\t @airfrance 6623\n",
      "\t @Alitalia 7368\n",
      "\t @British_Airways 29000\n",
      "\t @Finnair 2593\n",
      "\t @flybe 851\n",
      "\t @iberia_en 2541\n",
      "\t @jet2tweets 19019\n",
      "\t @lufthansa 10307\n",
      "\t @Fly_Norwegian 7369\n",
      "\t @flymepegasus 1139\n",
      "\t @Ryanair 43496\n",
      "\t @SAS 4551\n",
      "\t @tapairportugal 8472\n",
      "\t @TurkishAirlines 7904\n",
      "\t @vueling 11809\n",
      "\t @easyJet 39455\n",
      "\t @agoda 1658\n",
      "\t @bookingcom 8508\n",
      "\t @Cheapflights 5\n",
      "\t @Expedia 20357\n",
      "\t @ExpediaUK 3610\n",
      "\t @HomeAwayUK 143\n",
      "\t @homeaway 1449\n",
      "\t @HotelTonight 308\n",
      "\t @HotelTonightCX 168\n",
      "\t @HotelTonightEU 0\n",
      "\t @hotelsdotcom 0\n",
      "\t @Hotwire 1617\n",
      "\t @KAYAK 220\n",
      "\t @lastminute_com 5555\n",
      "\t @OntheBeachUK 2016\n",
      "\t @Orbitz 1830\n",
      "\t @priceline 4207\n",
      "\t @TUIGroup 605\n",
      "\t @TUIUK 14902\n",
      "\t @travelocity 2880\n",
      "\t @trivago 1041\n",
      "\t @Vrbo 10885\n",
      "2020-03-19\n",
      "\t @British_Airways 46619\n",
      "\t @HotelTonightEU 0\n",
      "\t @hotelsdotcom 8822\n",
      "total: 363915\n"
     ]
    }
   ],
   "source": [
    "#Enkel tweeträknare, läser all data så kan ju ta ett tag. \n",
    "#Testad för två samlingar (2020-03-18, 2020-03-19)\n",
    "#OBS, dubbelräknar totalen!\n",
    "counts = {}\n",
    "for date in tree.keys():\n",
    "    counts[date] = {}\n",
    "    for industry in tree[date].keys():\n",
    "        for company in tree[date][industry].keys():\n",
    "            for handle in tree[date][industry][company].keys():\n",
    "                counts[date][handle] = 0\n",
    "                for path in tree[date][industry][company][handle]:\n",
    "                    if DEBUG:\n",
    "                        print(path)\n",
    "                    with open(path, 'r') as f:\n",
    "                        tweet_list = json.loads(f.read())\n",
    "                    counts[date][handle] += len(tweet_list)\n",
    "                    \n",
    "print(\"Counts: \")\n",
    "total = 0 #OBS total dubbelräknar tweets om samma tweets finns i olika samlingar. \n",
    "for date in counts.keys():\n",
    "    print(date)\n",
    "    for handle in counts[date].keys():\n",
    "        print(\"\\t\", handle, counts[date][handle])\n",
    "        total += counts[date][handle]\n",
    "print(\"total:\", total)"
   ]
  },
  {
   "cell_type": "code",
   "execution_count": null,
   "metadata": {},
   "outputs": [],
   "source": [
    "#Läser in allt i flera DataFrames.\n",
    "#ITEMS är de fält som tas med. Filtrerar direkt för att spara minne.\n",
    "#Lite enkla utskrifter för att testa vad som tar tid.\n",
    "ITEMS = [\"created_at\", \"full_text\", \"id\", \"id_str\", \"metadata\", \"in_reply_to_status_id\", \"user\", \"retweeted_status\"]\n",
    "\n",
    "li = []\n",
    "t_start = time.time()\n",
    "for day in tree.keys():\n",
    "    for company in tree[day][\"Airlines\"].keys():\n",
    "        for path in list(tree[day][\"Airlines\"][company].values())[0]:\n",
    "            df = pd.read_json(path)\n",
    "            #Ta bort alla fält som inte finns i items\n",
    "            df = df.filter(items=ITEMS)\n",
    "            #Skapa en bool-series baserat på språket och behåll endast kolumner där språket känns igen som engelska.\n",
    "            en = df.metadata.apply(lambda x: x[\"iso_language_code\"] == \"en\")\n",
    "            df = df[en]\n",
    "            #Lägg till en kolumn som anger vilket företag tweeten insamlats från (alltså EJ avsändaren)\n",
    "            df[\"associated_company\"]=company\n",
    "            li.append(df)\n",
    "            \n",
    "        \n",
    "    \n",
    "print(\"Time - read files:\", time.time()-t_start, \"seconds\")\n",
    "data = pd.concat(li)\n",
    "print(\"Time - concat:\", time.time()-t_start, \"seconds\")\n",
    "print(\"Tweets:\", data.shape[0])\n",
    "print(\"Memory MB (with duplicates):\", data.memory_usage(index=True, deep=True).sum() / 1000000)\n",
    "data = data.drop_duplicates(subset=\"id\")\n",
    "print(\"Tweets (no duplicates):\", data.shape[0])\n",
    "print(\"Time - drop duplicates:\", time.time()-t_start, \"seconds\")\n",
    "print(\"Memory MB (no duplicates):\", data.memory_usage(index=True, deep=True).sum() / 1000000)\n",
    "\n"
   ]
  },
  {
   "cell_type": "code",
   "execution_count": 95,
   "metadata": {},
   "outputs": [
    {
     "data": {
      "text/plain": [
       "(958, 9)"
      ]
     },
     "execution_count": 95,
     "metadata": {},
     "output_type": "execute_result"
    }
   ],
   "source": [
    "data.shape"
   ]
  },
  {
   "cell_type": "code",
   "execution_count": 74,
   "metadata": {},
   "outputs": [
    {
     "name": "stderr",
     "output_type": "stream",
     "text": [
      "/home/user/.local/lib/python3.6/site-packages/pandas/core/arrays/datetimes.py:1104: UserWarning: Converting to PeriodArray/Index representation will drop timezone information.\n",
      "  UserWarning,\n"
     ]
    },
    {
     "ename": "AttributeError",
     "evalue": "'AxesSubplot' object has no attribute 'show'",
     "output_type": "error",
     "traceback": [
      "\u001b[0;31m---------------------------------------------------------------------------\u001b[0m",
      "\u001b[0;31mAttributeError\u001b[0m                            Traceback (most recent call last)",
      "\u001b[0;32m<ipython-input-74-b22efbce4269>\u001b[0m in \u001b[0;36m<module>\u001b[0;34m\u001b[0m\n\u001b[1;32m      2\u001b[0m \u001b[0ma\u001b[0m \u001b[0;34m=\u001b[0m\u001b[0mdata\u001b[0m\u001b[0;34m[\u001b[0m\u001b[0;34m\"created_at\"\u001b[0m\u001b[0;34m]\u001b[0m\u001b[0;34m.\u001b[0m\u001b[0mdt\u001b[0m\u001b[0;34m.\u001b[0m\u001b[0mto_period\u001b[0m\u001b[0;34m(\u001b[0m\u001b[0;34m\"D\"\u001b[0m\u001b[0;34m)\u001b[0m\u001b[0;34m.\u001b[0m\u001b[0mvalue_counts\u001b[0m\u001b[0;34m(\u001b[0m\u001b[0;34m)\u001b[0m\u001b[0;34m.\u001b[0m\u001b[0msort_index\u001b[0m\u001b[0;34m(\u001b[0m\u001b[0;34m)\u001b[0m\u001b[0;34m.\u001b[0m\u001b[0mplot\u001b[0m\u001b[0;34m(\u001b[0m\u001b[0mkind\u001b[0m\u001b[0;34m=\u001b[0m\u001b[0;34m\"bar\"\u001b[0m\u001b[0;34m)\u001b[0m\u001b[0;34m\u001b[0m\u001b[0;34m\u001b[0m\u001b[0m\n\u001b[1;32m      3\u001b[0m \u001b[0mb\u001b[0m \u001b[0;34m=\u001b[0m\u001b[0mdata\u001b[0m\u001b[0;34m[\u001b[0m\u001b[0;34m\"created_at\"\u001b[0m\u001b[0;34m]\u001b[0m\u001b[0;34m.\u001b[0m\u001b[0mdt\u001b[0m\u001b[0;34m.\u001b[0m\u001b[0mto_period\u001b[0m\u001b[0;34m(\u001b[0m\u001b[0;34m\"D\"\u001b[0m\u001b[0;34m)\u001b[0m\u001b[0;34m.\u001b[0m\u001b[0mvalue_counts\u001b[0m\u001b[0;34m(\u001b[0m\u001b[0;34m)\u001b[0m\u001b[0;34m.\u001b[0m\u001b[0msort_index\u001b[0m\u001b[0;34m(\u001b[0m\u001b[0;34m)\u001b[0m\u001b[0;34m.\u001b[0m\u001b[0mplot\u001b[0m\u001b[0;34m(\u001b[0m\u001b[0mkind\u001b[0m\u001b[0;34m=\u001b[0m\u001b[0;34m\"bar\"\u001b[0m\u001b[0;34m)\u001b[0m\u001b[0;34m\u001b[0m\u001b[0;34m\u001b[0m\u001b[0m\n\u001b[0;32m----> 4\u001b[0;31m \u001b[0ma\u001b[0m\u001b[0;34m.\u001b[0m\u001b[0mshow\u001b[0m\u001b[0;34m(\u001b[0m\u001b[0;34m)\u001b[0m\u001b[0;34m\u001b[0m\u001b[0;34m\u001b[0m\u001b[0m\n\u001b[0m",
      "\u001b[0;31mAttributeError\u001b[0m: 'AxesSubplot' object has no attribute 'show'"
     ]
    },
    {
     "data": {
      "image/png": "[encoded data removed]",
      "text/plain": [
       "<Figure size 432x288 with 1 Axes>"
      ]
     },
     "metadata": {
      "needs_background": "light"
     },
     "output_type": "display_data"
    }
   ],
   "source": [
    "#Exempel på plot av antal tweets per dag. Tror den gör vad jag säger att den gör...\n",
    "a =data[\"created_at\"].dt.to_period(\"D\").value_counts().sort_index().plot(kind=\"bar\")\n",
    "b =data[\"created_at\"].dt.to_period(\"D\").value_counts().sort_index().plot(kind=\"bar\")\n",
    "a.show()"
   ]
  },
  {
   "cell_type": "code",
   "execution_count": 82,
   "metadata": {},
   "outputs": [
    {
     "data": {
      "text/plain": [
       "(452346, 5)"
      ]
     },
     "execution_count": 82,
     "metadata": {},
     "output_type": "execute_result"
    }
   ],
   "source": [
    "data.shape"
   ]
  },
  {
   "cell_type": "code",
   "execution_count": 84,
   "metadata": {},
   "outputs": [],
   "source": [
    "not_en = data.metadata.apply(lambda x: x[\"iso_language_code\"] != \"en\")"
   ]
  },
  {
   "cell_type": "code",
   "execution_count": 85,
   "metadata": {},
   "outputs": [
    {
     "data": {
      "text/html": [
       "<div>\n",
       "<style scoped>\n",
       "    .dataframe tbody tr th:only-of-type {\n",
       "        vertical-align: middle;\n",
       "    }\n",
       "\n",
       "    .dataframe tbody tr th {\n",
       "        vertical-align: top;\n",
       "    }\n",
       "\n",
       "    .dataframe thead th {\n",
       "        text-align: right;\n",
       "    }\n",
       "</style>\n",
       "<table border=\"1\" class=\"dataframe\">\n",
       "  <thead>\n",
       "    <tr style=\"text-align: right;\">\n",
       "      <th></th>\n",
       "      <th>created_at</th>\n",
       "      <th>full_text</th>\n",
       "      <th>id</th>\n",
       "      <th>metadata</th>\n",
       "      <th>associated_company</th>\n",
       "    </tr>\n",
       "  </thead>\n",
       "  <tbody>\n",
       "    <tr>\n",
       "      <th>40</th>\n",
       "      <td>2020-03-18 20:55:19+00:00</td>\n",
       "      <td>@AerLingus https://t.co/sgPZEatA2C https://t.c...</td>\n",
       "      <td>1240381289989095427</td>\n",
       "      <td>{'iso_language_code': 'und', 'result_type': 'r...</td>\n",
       "      <td>Aer Lingus</td>\n",
       "    </tr>\n",
       "    <tr>\n",
       "      <th>51</th>\n",
       "      <td>2020-03-18 20:46:25+00:00</td>\n",
       "      <td>@AerLingus https://t.co/lpfO0vOCa0</td>\n",
       "      <td>1240379048901083136</td>\n",
       "      <td>{'iso_language_code': 'und', 'result_type': 'r...</td>\n",
       "      <td>Aer Lingus</td>\n",
       "    </tr>\n",
       "    <tr>\n",
       "      <th>67</th>\n",
       "      <td>2020-03-18 20:32:44+00:00</td>\n",
       "      <td>@AerLingus #aerlingusdotherightthing https://t...</td>\n",
       "      <td>1240375606434582528</td>\n",
       "      <td>{'iso_language_code': 'und', 'result_type': 'r...</td>\n",
       "      <td>Aer Lingus</td>\n",
       "    </tr>\n",
       "    <tr>\n",
       "      <th>101</th>\n",
       "      <td>2020-03-18 20:08:04+00:00</td>\n",
       "      <td>eire – load, burden\\nÉire – Ireland\\n\\n@HSELiv...</td>\n",
       "      <td>1240369397904158721</td>\n",
       "      <td>{'iso_language_code': 'no', 'result_type': 're...</td>\n",
       "      <td>Aer Lingus</td>\n",
       "    </tr>\n",
       "    <tr>\n",
       "      <th>144</th>\n",
       "      <td>2020-03-18 19:46:06+00:00</td>\n",
       "      <td>@AerLingus https://t.co/am8HpeAPAt</td>\n",
       "      <td>1240363872827080704</td>\n",
       "      <td>{'iso_language_code': 'und', 'result_type': 'r...</td>\n",
       "      <td>Aer Lingus</td>\n",
       "    </tr>\n",
       "    <tr>\n",
       "      <th>...</th>\n",
       "      <td>...</td>\n",
       "      <td>...</td>\n",
       "      <td>...</td>\n",
       "      <td>...</td>\n",
       "      <td>...</td>\n",
       "    </tr>\n",
       "    <tr>\n",
       "      <th>867</th>\n",
       "      <td>2020-03-30 14:22:04+00:00</td>\n",
       "      <td>@joffreylm @maamar69007 @Dazz59 @easyJet Oui</td>\n",
       "      <td>1244630982382280705</td>\n",
       "      <td>{'iso_language_code': 'und', 'result_type': 'r...</td>\n",
       "      <td>easyJet</td>\n",
       "    </tr>\n",
       "    <tr>\n",
       "      <th>875</th>\n",
       "      <td>2020-03-30 14:21:10+00:00</td>\n",
       "      <td>@LFC_Unbearables @scatterbrainjoe @moomskib @e...</td>\n",
       "      <td>1244630754975498246</td>\n",
       "      <td>{'iso_language_code': 'und', 'result_type': 'r...</td>\n",
       "      <td>easyJet</td>\n",
       "    </tr>\n",
       "    <tr>\n",
       "      <th>895</th>\n",
       "      <td>2020-03-30 14:18:55+00:00</td>\n",
       "      <td>@easyJet @lukehughesman1</td>\n",
       "      <td>1244630188689895425</td>\n",
       "      <td>{'iso_language_code': 'und', 'result_type': 'r...</td>\n",
       "      <td>easyJet</td>\n",
       "    </tr>\n",
       "    <tr>\n",
       "      <th>962</th>\n",
       "      <td>2020-03-30 14:11:42+00:00</td>\n",
       "      <td>No obtengo respuesta por teléfono (ni en UK ni...</td>\n",
       "      <td>1244628370245267461</td>\n",
       "      <td>{'iso_language_code': 'es', 'result_type': 're...</td>\n",
       "      <td>easyJet</td>\n",
       "    </tr>\n",
       "    <tr>\n",
       "      <th>975</th>\n",
       "      <td>2020-03-30 14:10:14+00:00</td>\n",
       "      <td>Al contrario que otras aerolíneas, @easyJet ha...</td>\n",
       "      <td>1244628000571904000</td>\n",
       "      <td>{'iso_language_code': 'es', 'result_type': 're...</td>\n",
       "      <td>easyJet</td>\n",
       "    </tr>\n",
       "  </tbody>\n",
       "</table>\n",
       "<p>87719 rows × 5 columns</p>\n",
       "</div>"
      ],
      "text/plain": [
       "                   created_at  \\\n",
       "40  2020-03-18 20:55:19+00:00   \n",
       "51  2020-03-18 20:46:25+00:00   \n",
       "67  2020-03-18 20:32:44+00:00   \n",
       "101 2020-03-18 20:08:04+00:00   \n",
       "144 2020-03-18 19:46:06+00:00   \n",
       "..                        ...   \n",
       "867 2020-03-30 14:22:04+00:00   \n",
       "875 2020-03-30 14:21:10+00:00   \n",
       "895 2020-03-30 14:18:55+00:00   \n",
       "962 2020-03-30 14:11:42+00:00   \n",
       "975 2020-03-30 14:10:14+00:00   \n",
       "\n",
       "                                             full_text                   id  \\\n",
       "40   @AerLingus https://t.co/sgPZEatA2C https://t.c...  1240381289989095427   \n",
       "51                  @AerLingus https://t.co/lpfO0vOCa0  1240379048901083136   \n",
       "67   @AerLingus #aerlingusdotherightthing https://t...  1240375606434582528   \n",
       "101  eire – load, burden\\nÉire – Ireland\\n\\n@HSELiv...  1240369397904158721   \n",
       "144                 @AerLingus https://t.co/am8HpeAPAt  1240363872827080704   \n",
       "..                                                 ...                  ...   \n",
       "867       @joffreylm @maamar69007 @Dazz59 @easyJet Oui  1244630982382280705   \n",
       "875  @LFC_Unbearables @scatterbrainjoe @moomskib @e...  1244630754975498246   \n",
       "895                           @easyJet @lukehughesman1  1244630188689895425   \n",
       "962  No obtengo respuesta por teléfono (ni en UK ni...  1244628370245267461   \n",
       "975  Al contrario que otras aerolíneas, @easyJet ha...  1244628000571904000   \n",
       "\n",
       "                                              metadata associated_company  \n",
       "40   {'iso_language_code': 'und', 'result_type': 'r...         Aer Lingus  \n",
       "51   {'iso_language_code': 'und', 'result_type': 'r...         Aer Lingus  \n",
       "67   {'iso_language_code': 'und', 'result_type': 'r...         Aer Lingus  \n",
       "101  {'iso_language_code': 'no', 'result_type': 're...         Aer Lingus  \n",
       "144  {'iso_language_code': 'und', 'result_type': 'r...         Aer Lingus  \n",
       "..                                                 ...                ...  \n",
       "867  {'iso_language_code': 'und', 'result_type': 'r...            easyJet  \n",
       "875  {'iso_language_code': 'und', 'result_type': 'r...            easyJet  \n",
       "895  {'iso_language_code': 'und', 'result_type': 'r...            easyJet  \n",
       "962  {'iso_language_code': 'es', 'result_type': 're...            easyJet  \n",
       "975  {'iso_language_code': 'es', 'result_type': 're...            easyJet  \n",
       "\n",
       "[87719 rows x 5 columns]"
      ]
     },
     "execution_count": 85,
     "metadata": {},
     "output_type": "execute_result"
    }
   ],
   "source": [
    "data[not_en]"
   ]
  },
  {
   "cell_type": "code",
   "execution_count": null,
   "metadata": {},
   "outputs": [],
   "source": []
  }
 ],
 "metadata": {
  "kernelspec": {
   "display_name": "Python 3",
   "language": "python",
   "name": "python3"
  },
  "language_info": {
   "codemirror_mode": {
    "name": "ipython",
    "version": 3
   },
   "file_extension": ".py",
   "mimetype": "text/x-python",
   "name": "python",
   "nbconvert_exporter": "python",
   "pygments_lexer": "ipython3",
   "version": "3.6.9"
  }
 },
 "nbformat": 4,
 "nbformat_minor": 4
}
