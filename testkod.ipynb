{
 "cells": [
  {
   "cell_type": "code",
   "execution_count": null,
   "metadata": {},
   "outputs": [],
   "source": [
    "'''\n",
    "-Lite work in progress kring att öppna och analysera tweets.\n",
    "-Notebooken måste ligga i samma mapp som all data. \n",
    "-Rekommenderar att inte köra alla celler, kan nog ta ett tag\n",
    " när vi börjar få ihop mer data.\n",
    "'''"
   ]
  },
  {
   "cell_type": "code",
   "execution_count": 2,
   "metadata": {},
   "outputs": [],
   "source": [
    "import json\n",
    "import glob\n",
    "import os\n",
    "import re"
   ]
  },
  {
   "cell_type": "code",
   "execution_count": 23,
   "metadata": {},
   "outputs": [],
   "source": [
    "#Printar lite extra grejs som kan vara intressant om saker går fel\n",
    "DEBUG = False"
   ]
  },
  {
   "cell_type": "code",
   "execution_count": 24,
   "metadata": {},
   "outputs": [],
   "source": [
    "#Genererar ett filträd. Måste ligga i samma mapp som datamapparna\n",
    "# tree[date][industry][company][handle] är en lista med alla filer för den användaren (alltså: mentions, till, från).  \n",
    "\n",
    "#TESTAD 19/3, Patrik har kontrollerat att längden på fillistan stämmer överrens med antal jsonfiler och att filnamn\n",
    "# inte förekommer dubbelt. Koden är testad när notebooken ligger i samma mapp som två datamappar (2020-03-18, 2020-03-19).\n",
    "\n",
    "\n",
    "tree = {}\n",
    "INDUSTRIES = [\"Airlines\", \"Online Travel Agency\"]\n",
    "\n",
    "#Lista med alla mappar i working directory som heter något i stil med 1111-11-11\n",
    "collections = [d for d in glob.glob(\"*\") if re.fullmatch(r'[0-9]{4}-[0-9]{2}-[0-9]{2}', d)]\n",
    "\n",
    "for col in collections:\n",
    "    tree[col] = {}\n",
    "    for ind in INDUSTRIES:\n",
    "        tree[col][ind] = {}\n",
    "        \n",
    "        #Den här fångar alla undermappar i /2020-xx-xx/<industry>/\n",
    "        companies = [os.path.basename(x) for x in glob.glob(os.path.join(col, ind, \"*\"))]\n",
    "        \n",
    "        for comp in companies:\n",
    "            tree[col][ind][comp] = {}\n",
    "            \n",
    "            #Traskar igenom \"underfilträdet\" för varje företag, alltså med /2020-xx-xx/industry/company/ som root. \n",
    "            #Lite snårig men finns bra dokumentation online.\n",
    "            for root, dirs, files in os.walk(os.path.join(col, ind, comp), topdown=True):\n",
    "                if dirs:\n",
    "                    for handle in dirs:\n",
    "                        tree[col][ind][comp][handle] = []\n",
    "                else:\n",
    "                    for f in files:\n",
    "                        if f.find(\"tweet\") == 0:\n",
    "                            tree[col][ind][comp][os.path.basename(root)].append(os.path.join(root, f))\n",
    "                            \n",
    "#Printar en översikt av hela filträdet\n",
    "if DEBUG:\n",
    "    for c in tree.keys():\n",
    "        print(c)\n",
    "        for ind in tree[c].keys():\n",
    "            print('\\t', ind)\n",
    "            for comp in tree[c][ind].keys():\n",
    "                print('\\t\\t', comp)\n",
    "                for handle in tree[c][ind][comp].keys():\n",
    "                    print('\\t\\t\\t', handle)\n",
    "                    print('\\t\\t\\t', \"antal json:\", str(len(tree[c][ind][comp][handle])))\n",
    "                    for f in tree[c][ind][comp][handle]:\n",
    "                        print('\\t\\t\\t\\t', f)"
   ]
  },
  {
   "cell_type": "code",
   "execution_count": 26,
   "metadata": {},
   "outputs": [
    {
     "name": "stdout",
     "output_type": "stream",
     "text": [
      "Counts: \n",
      "2020-03-18\n",
      "\t @AerLingus 19998\n",
      "\t @aeroflot 4015\n",
      "\t @airfrance 6623\n",
      "\t @Alitalia 7368\n",
      "\t @British_Airways 29000\n",
      "\t @Finnair 2593\n",
      "\t @flybe 851\n",
      "\t @iberia_en 2541\n",
      "\t @jet2tweets 19019\n",
      "\t @lufthansa 10307\n",
      "\t @Fly_Norwegian 7369\n",
      "\t @flymepegasus 1139\n",
      "\t @Ryanair 43496\n",
      "\t @SAS 4551\n",
      "\t @tapairportugal 8472\n",
      "\t @TurkishAirlines 7904\n",
      "\t @vueling 11809\n",
      "\t @easyJet 39455\n",
      "\t @agoda 1658\n",
      "\t @bookingcom 8508\n",
      "\t @Cheapflights 5\n",
      "\t @Expedia 20357\n",
      "\t @ExpediaUK 3610\n",
      "\t @HomeAwayUK 143\n",
      "\t @homeaway 1449\n",
      "\t @HotelTonight 308\n",
      "\t @HotelTonightCX 168\n",
      "\t @HotelTonightEU 0\n",
      "\t @hotelsdotcom 0\n",
      "\t @Hotwire 1617\n",
      "\t @KAYAK 220\n",
      "\t @lastminute_com 5555\n",
      "\t @OntheBeachUK 2016\n",
      "\t @Orbitz 1830\n",
      "\t @priceline 4207\n",
      "\t @TUIGroup 605\n",
      "\t @TUIUK 14902\n",
      "\t @travelocity 2880\n",
      "\t @trivago 1041\n",
      "\t @Vrbo 10885\n",
      "2020-03-19\n",
      "\t @British_Airways 46619\n",
      "\t @HotelTonightEU 0\n",
      "\t @hotelsdotcom 8822\n",
      "total: 363915\n"
     ]
    }
   ],
   "source": [
    "#Enkel tweeträknare, läser all data så kan ju ta ett tag. \n",
    "#Testad för två samlingar (2020-03-18, 2020-03-19)\n",
    "counts = {}\n",
    "for date in tree.keys():\n",
    "    counts[date] = {}\n",
    "    for industry in tree[date].keys():\n",
    "        for company in tree[date][industry].keys():\n",
    "            for handle in tree[date][industry][company].keys():\n",
    "                counts[date][handle] = 0\n",
    "                for path in tree[date][industry][company][handle]:\n",
    "                    if DEBUG:\n",
    "                        print(path)\n",
    "                    with open(path, 'r') as f:\n",
    "                        tweet_list = json.loads(f.read())\n",
    "                    counts[date][handle] += len(tweet_list)\n",
    "                    \n",
    "print(\"Counts: \")\n",
    "total = 0 #OBS total dubbelräknar tweets om samma tweets finns i olika samlingar. \n",
    "for date in counts.keys():\n",
    "    print(date)\n",
    "    for handle in counts[date].keys():\n",
    "        print(\"\\t\", handle, counts[date][handle])\n",
    "        total += counts[date][handle]\n",
    "print(\"total:\", total)"
   ]
  },
  {
   "cell_type": "code",
   "execution_count": 101,
   "metadata": {},
   "outputs": [],
   "source": []
  },
  {
   "cell_type": "code",
   "execution_count": null,
   "metadata": {},
   "outputs": [],
   "source": [
    "\n",
    "    "
   ]
  },
  {
   "cell_type": "code",
   "execution_count": null,
   "metadata": {},
   "outputs": [],
   "source": []
  }
 ],
 "metadata": {
  "kernelspec": {
   "display_name": "Python 3",
   "language": "python",
   "name": "python3"
  },
  "language_info": {
   "codemirror_mode": {
    "name": "ipython",
    "version": 3
   },
   "file_extension": ".py",
   "mimetype": "text/x-python",
   "name": "python",
   "nbconvert_exporter": "python",
   "pygments_lexer": "ipython3",
   "version": "3.6.9"
  }
 },
 "nbformat": 4,
 "nbformat_minor": 4
}
